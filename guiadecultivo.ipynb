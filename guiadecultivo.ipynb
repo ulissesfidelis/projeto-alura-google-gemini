{
  "nbformat": 4,
  "nbformat_minor": 0,
  "metadata": {
    "colab": {
      "provenance": [],
      "authorship_tag": "ABX9TyO/MxbqRtuBRtSMAD69UKeh",
      "include_colab_link": true
    },
    "kernelspec": {
      "name": "python3",
      "display_name": "Python 3"
    },
    "language_info": {
      "name": "python"
    }
  },
  "cells": [
    {
      "cell_type": "markdown",
      "metadata": {
        "id": "view-in-github",
        "colab_type": "text"
      },
      "source": [
        "<a href=\"https://colab.research.google.com/github/ulissesfidelis/projeto-alura-google-gemini/blob/main/guiadecultivo.ipynb\" target=\"_parent\"><img src=\"https://colab.research.google.com/assets/colab-badge.svg\" alt=\"Open In Colab\"/></a>"
      ]
    },
    {
      "cell_type": "code",
      "execution_count": 28,
      "metadata": {
        "colab": {
          "base_uri": "https://localhost:8080/"
        },
        "id": "vNVdyJaiLtBF",
        "outputId": "0db49cc6-d6b2-4035-b7ba-ceed324708ae"
      },
      "outputs": [
        {
          "output_type": "stream",
          "name": "stdout",
          "text": [
            "\n",
            "Usage:   \n",
            "  pip3 install [options] <requirement specifier> [package-index-options] ...\n",
            "  pip3 install [options] -r <requirements file> [package-index-options] ...\n",
            "  pip3 install [options] [-e] <vcs project url> ...\n",
            "  pip3 install [options] [-e] <local project path> ...\n",
            "  pip3 install [options] <archive url/path> ...\n",
            "\n",
            "no such option: -u\n"
          ]
        }
      ],
      "source": [
        "!pip install -q -u google generativeai\n",
        "\n",
        "import google.generativeai as genai\n",
        "\n",
        "GOOGLE_API_KEY=\"COLE AQUI SUA API KEY\"\n",
        "\n",
        "genai.configure(api_key=GOOGLE_API_KEY)\n",
        "\n",
        "model = genai.GenerativeModel(\"gemini-pro\")"
      ]
    },
    {
      "cell_type": "code",
      "source": [
        "planta = input(\"Digite o nome da planta\")\n",
        "\n",
        "frase = f\"Crie uma tabela para a planta {planta} que contenha as seguintes colunas: Nome da planta; época para plantio estação e mês do ano; época para colheita estação e mês do ano; tempo total em meses para a colheita; Intervalo de irrigação; Obvervação\"\n",
        "response = model.generate_content(frase)\n",
        "print(response.text)"
      ],
      "metadata": {
        "colab": {
          "base_uri": "https://localhost:8080/",
          "height": 90
        },
        "id": "hXq8tUi7RKCs",
        "outputId": "fee583e3-d4fd-475f-d0db-0680ba0243fd"
      },
      "execution_count": 29,
      "outputs": [
        {
          "output_type": "stream",
          "name": "stdout",
          "text": [
            "Digite o nome da plantaManga\n",
            "| Nome da Planta | Época para Plantio | Época para Colheita | Tempo Total (meses) | Intervalo de Irrigação | Observação |\n",
            "|---|---|---|---|---|---|\n",
            "| Manga | Primavera/Verão (outubro a fevereiro) | Verão/Outono (dezembro a maio) | 12-18 | 7-10 dias | Prefere solos bem drenados e sol pleno. |\n"
          ]
        }
      ]
    }
  ]
}